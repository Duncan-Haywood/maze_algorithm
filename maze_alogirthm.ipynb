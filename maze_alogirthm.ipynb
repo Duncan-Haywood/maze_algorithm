{
 "cells": [
  {
   "cell_type": "code",
   "execution_count": 1,
   "metadata": {},
   "outputs": [],
   "source": [
    "def preprocess(input_text):\n",
    "    \"\"\"\n",
    "    with each entry being 0 or 1 and each row of the input text being the inner list. \n",
    "    1 signifies blocked, o signifies open\n",
    "    using list because look up time is quicker than a string search\n",
    "    \"\"\"\n",
    "    maze_direction_list = to_2d_list_of_chars_to_ints(input_text)\n",
    "    return maze_direction_list"
   ]
  },
  {
   "cell_type": "code",
   "execution_count": null,
   "metadata": {},
   "outputs": [],
   "source": [
    "def postprocess(indecies_of_mazes_with_longest_matching_maze_paths):\n",
    "    mazeindex_one, maze_index_two = split(indecies_of_mazes_with_longest_matching_maze_paths)\n",
    "    output_str = str(maze_index_one) + \" \" + str(maze_index_two)\n",
    "    return output_str\n",
    "    "
   ]
  },
  {
   "cell_type": "code",
   "execution_count": null,
   "metadata": {},
   "outputs": [],
   "source": [
    "def get_maze_paths_DFS(maze_direction_list):\n",
    "    \"\"\"returns list of lists, each inner list has entries of 0-3 for N, S, W, E steps.\"\"\"\n",
    "    maze_paths_list = list()\n",
    "    stack = list()\n",
    "    stack.append((0,0))\n",
    "    \n",
    "    while stack is not empty:\n",
    "        if not next_direction:\n",
    "            next_direction = 0 ## north\n",
    "        for four directions at position at in stack, starting at next_direction:\n",
    "            if direction is open and not already in stack:\n",
    "                stack.append(new position in that direction)\n",
    "                break\n",
    "            if last direction has been checked already: ## == 3, East\n",
    "                append stack to maze_paths_list\n",
    "                dead_end = pop last element in stack \n",
    "                next_direction = determine_direction_traveled(dead_end, last element in stack).next()\n",
    "                \n",
    "    return maze_paths_list"
   ]
  },
  {
   "cell_type": "code",
   "execution_count": null,
   "metadata": {},
   "outputs": [],
   "source": [
    "def get_shortest_matching_path_brute(list_of_maze_paths_lists, n):\n",
    "    \"\"\"returns tuple\"\"\"\n",
    "    minimum = n + 1 # longer than any possible length (sentinal)\n",
    "    shortest_pair = None\n",
    "    for each pair of paths (path_pair) in list_of_maze_paths_lists:\n",
    "        length = get_longest_matching_sequence(path_pair)\n",
    "        minimum = min(length, minimum)\n",
    "        if minimum == length:\n",
    "            shortest_pair = pair\n",
    "    indecies_of_mazes_with_shortest_matching_maze_paths = get_indecies(shortest_pair)\n",
    "    return indecies_of_mazes_with_shortest_matching_maze_paths"
   ]
  },
  {
   "cell_type": "code",
   "execution_count": null,
   "metadata": {},
   "outputs": [],
   "source": [
    "def get_longest_matching_sequence(path_pair):\n",
    "    pass ## would you like this done?\n",
    "    path_one, path_two = split(path_pair)\n",
    "    X = path_one.to_direction_list()\n",
    "    Y = path_two.to_direction_list()\n",
    " \n",
    "    # find the length of the strings \n",
    "    m = len(X) \n",
    "    n = len(Y) \n",
    "  \n",
    "    # declaring the array for storing the dp values \n",
    "    L = [[None]*(n+1) for i in xrange(m+1)] ## 2d array\n",
    "  \n",
    "    \"\"\"Following steps build L[m+1][n+1] in bottom up fashion \n",
    "    Note: L[i][j] contains length of LCS of X[0..i-1] \n",
    "    and Y[0..j-1]\"\"\"\n",
    "    for i from 0 to m: \n",
    "        for j from 0 to n: \n",
    "            if i == 0 or j == 0 : \n",
    "                L[i][j] = 0\n",
    "            elif X[i-1] == Y[j-1]: \n",
    "                L[i][j] = L[i-1][j-1]+1\n",
    "            else: \n",
    "                L[i][j] = max(L[i-1][j] , L[i][j-1]) \n",
    "  \n",
    "    # L[m][n] contains the length of LCS of X[0..n-1] & Y[0..m-1] \n",
    "    return L[m][n] \n",
    "#end of function lcs \n",
    "    \n",
    "    \n",
    "    \n",
    "    for  in path_one:\n",
    "        \n",
    "    ## There is a brute force and a way more efficient and longer-to-implement way to do this. \n",
    "    ## Which do you prefer?"
   ]
  },
  {
   "cell_type": "code",
   "execution_count": null,
   "metadata": {},
   "outputs": [],
   "source": [
    "def __main__(input_texts, n):\n",
    "    list_of_maze_paths_list\n",
    "    for input_text in input_texts:\n",
    "        maze_direction_list = preprocess(input_text)\n",
    "        maze_paths_list = get_maze_paths_DFS(maze_direction_list, n)\n",
    "        list_of_maze_paths_list.append(maze_paths_list)\n",
    "    indecies_of_mazes_with_shortest_matching_maze_paths = get_shortest_matching_path_brute(list_of_maze_paths_lists)\n",
    "    maze_indecies_str = postprocess(indecies_of_mazes_with_shortest_matching_maze_paths)\n",
    "    return maze_indecies_str\n",
    "    "
   ]
  }
 ],
 "metadata": {
  "kernelspec": {
   "display_name": "Python 3",
   "language": "python",
   "name": "python3"
  },
  "language_info": {
   "codemirror_mode": {
    "name": "ipython",
    "version": 3
   },
   "file_extension": ".py",
   "mimetype": "text/x-python",
   "name": "python",
   "nbconvert_exporter": "python",
   "pygments_lexer": "ipython3",
   "version": "3.7.6"
  }
 },
 "nbformat": 4,
 "nbformat_minor": 4
}
